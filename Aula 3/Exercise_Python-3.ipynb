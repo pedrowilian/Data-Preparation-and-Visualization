{
 "cells": [
  {
   "attachments": {},
   "cell_type": "markdown",
   "metadata": {},
   "source": [
    "Parte I\n",
    "\n",
    "1. Escreva um programa que imprima 'Hello World' na tela.\n",
    "\n",
    "2. Escreva um programa que pergunte ao usuário seu nome e o cumprimente com seu nome.\n",
    "\n",
    "3. Modifique o programa anterior para que apenas os usuários Alice e Bob sejam saudados com seus nomes.\n",
    "\n",
    "4. Escreva um programa que peça ao usuário um número n e imprima a soma dos números de 1 a n.\n",
    "\n",
    "5. Modifique o programa anterior para que ele use uma função chamada sum_numbers.\n",
    "\n",
    "6. Escreva um programa que peça o raio de um círculo e calcule sua área (use o módulo math para obter PI: math.pi).\n"
   ]
  },
  {
   "cell_type": "code",
   "execution_count": null,
   "metadata": {},
   "outputs": [],
   "source": []
  },
  {
   "cell_type": "code",
   "execution_count": null,
   "metadata": {},
   "outputs": [],
   "source": []
  },
  {
   "cell_type": "code",
   "execution_count": null,
   "metadata": {},
   "outputs": [],
   "source": []
  },
  {
   "cell_type": "code",
   "execution_count": null,
   "metadata": {},
   "outputs": [],
   "source": []
  },
  {
   "cell_type": "code",
   "execution_count": null,
   "metadata": {},
   "outputs": [],
   "source": []
  },
  {
   "cell_type": "code",
   "execution_count": null,
   "metadata": {},
   "outputs": [],
   "source": []
  },
  {
   "attachments": {},
   "cell_type": "markdown",
   "metadata": {},
   "source": [
    "Parte II\n",
    "\n",
    "1. Escreva uma função que retorne o maior elemento de uma lista.\n",
    "\n",
    "2. Escreva uma função que inverta uma lista.\n",
    "\n",
    "3. Escreva uma função que verifica se um elemento ocorre em uma lista.\n",
    "\n",
    "4. Escreva uma função que calcule a soma de todos os elementos de uma lista."
   ]
  },
  {
   "cell_type": "markdown",
   "metadata": {},
   "source": []
  },
  {
   "cell_type": "code",
   "execution_count": null,
   "metadata": {},
   "outputs": [],
   "source": []
  },
  {
   "cell_type": "code",
   "execution_count": null,
   "metadata": {},
   "outputs": [],
   "source": []
  },
  {
   "cell_type": "code",
   "execution_count": null,
   "metadata": {},
   "outputs": [],
   "source": []
  }
 ],
 "metadata": {
  "kernelspec": {
   "display_name": "Python 3",
   "language": "python",
   "name": "python3"
  },
  "language_info": {
   "name": "python",
   "version": "3.9.6"
  },
  "orig_nbformat": 4,
  "vscode": {
   "interpreter": {
    "hash": "31f2aee4e71d21fbe5cf8b01ff0e069b9275f58929596ceb00d14d90e3e16cd6"
   }
  }
 },
 "nbformat": 4,
 "nbformat_minor": 2
}
