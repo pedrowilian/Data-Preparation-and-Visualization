{
 "cells": [
  {
   "attachments": {},
   "cell_type": "markdown",
   "metadata": {},
   "source": [
    "Parte I\n",
    "\n",
    "1. Escreva um programa que imprima 'Hello World' na tela.\n",
    "\n",
    "2. Escreva um programa que pergunte ao usuário seu nome e o cumprimente com seu nome.\n",
    "\n",
    "3. Modifique o programa anterior para que apenas os usuários Alice e Bob sejam saudados com seus nomes.\n",
    "\n",
    "4. Escreva um programa que peça ao usuário um número n e imprima a soma dos números de 1 a n.\n",
    "\n",
    "5. Modifique o programa anterior para que ele use uma função chamada sum_numbers.\n",
    "\n",
    "6. Escreva um programa que peça o raio de um círculo e calcule sua área (use o módulo math para obter PI: math.pi).\n"
   ]
  },
  {
   "cell_type": "code",
   "execution_count": 14,
   "metadata": {},
   "outputs": [
    {
     "name": "stdout",
     "output_type": "stream",
     "text": [
      "Hello, World!\n"
     ]
    }
   ],
   "source": [
    "# 1. Escreva um programa que imprima 'Hello World' na tela.\n",
    "print(\"Hello, World!\")"
   ]
  },
  {
   "cell_type": "code",
   "execution_count": 15,
   "metadata": {},
   "outputs": [
    {
     "name": "stdout",
     "output_type": "stream",
     "text": [
      "Hello, 6!\n"
     ]
    }
   ],
   "source": [
    "# 2. Escreva um programa que pergunte ao usuário seu nome e o cumprimente com seu nome.\n",
    "name = input(\"Enter your name: \")\n",
    "print(f\"Hello, {name}!\")"
   ]
  },
  {
   "cell_type": "code",
   "execution_count": 16,
   "metadata": {},
   "outputs": [],
   "source": [
    "# 3. Modifique o programa anterior para que apenas os usuários Alice e Bob sejam saudados com seus nomes.\n",
    "name = input(\"Enter your name: \")\n",
    "if name == \"Alice\" or name == \"Bob\":\n",
    "    print(f\"Hello, {name}!\")"
   ]
  },
  {
   "cell_type": "code",
   "execution_count": 17,
   "metadata": {},
   "outputs": [
    {
     "name": "stdout",
     "output_type": "stream",
     "text": [
      "The sum of numbers from 1 to 6 is: 21\n"
     ]
    }
   ],
   "source": [
    "# 4. Escreva um programa que peça ao usuário um número n e imprima a soma dos números de 1 a n.\n",
    "number = int(input(\"Enter a number (n): \"))\n",
    "aux = 0\n",
    "for i in range(1, number + 1):\n",
    "    aux += i\n",
    "print(f\"The sum of numbers from 1 to {number} is: {aux}\")"
   ]
  },
  {
   "cell_type": "code",
   "execution_count": null,
   "metadata": {},
   "outputs": [
    {
     "name": "stdout",
     "output_type": "stream",
     "text": [
      "The sum of numbers from 1 to 6 is: 21\n"
     ]
    }
   ],
   "source": [
    "# 5. Modifique o programa anterior para que ele use uma função chamada sum_numbers.\n",
    "def sum_numbers(n): # Big o notation: O(n) Recursive function\n",
    "    if n < 1:\n",
    "        return 0\n",
    "    else:\n",
    "        return n + sum_numbers(n - 1)\n",
    "n = int(input(\"Enter a number (n): \"))\n",
    "result = sum_numbers(n)\n",
    "print(f\"The sum of numbers from 1 to {n} is: {result}\")"
   ]
  },
  {
   "cell_type": "code",
   "execution_count": 19,
   "metadata": {},
   "outputs": [
    {
     "name": "stdout",
     "output_type": "stream",
     "text": [
      "The area of the circle with radius 6.0 is: 113.09733552923255\n"
     ]
    }
   ],
   "source": [
    "# 6. Escreva um programa que peça o raio de um círculo e calcule sua área (use o módulo math para obter PI: math.pi).\n",
    "from math import pi\n",
    "radius = float(input(\"Enter the radius of the circle: \"))\n",
    "area = pi * (radius ** 2)\n",
    "print(f\"The area of the circle with radius {radius} is: {area}\")"
   ]
  },
  {
   "attachments": {},
   "cell_type": "markdown",
   "metadata": {},
   "source": [
    "Parte II\n",
    "\n",
    "1. Escreva uma função que retorne o maior elemento de uma lista.\n",
    "\n",
    "2. Escreva uma função que inverta uma lista.\n",
    "\n",
    "3. Escreva uma função que verifica se um elemento ocorre em uma lista.\n",
    "\n",
    "4. Escreva uma função que calcule a soma de todos os elementos de uma lista."
   ]
  },
  {
   "cell_type": "code",
   "execution_count": null,
   "metadata": {},
   "outputs": [
    {
     "name": "stdout",
     "output_type": "stream",
     "text": [
      "The maximum value in the list is: 9\n"
     ]
    }
   ],
   "source": [
    "# 1. Escreva uma função que retorne o maior elemento de uma lista.\n",
    "def max_in_list(lst): # Big o notation: O(n)\n",
    "    if not lst:\n",
    "        return None\n",
    "    max_value = lst[0]\n",
    "    for num in lst:\n",
    "        if num > max_value:\n",
    "            max_value = num\n",
    "    return max_value\n",
    "list_example = [3, 1, 4, 1, 5, 9, 2, 6, 5]\n",
    "print(f\"The maximum value in the list is: {max_in_list(list_example)}\")"
   ]
  },
  {
   "cell_type": "code",
   "execution_count": null,
   "metadata": {},
   "outputs": [
    {
     "name": "stdout",
     "output_type": "stream",
     "text": [
      "The reversed list is: [5, 4, 3, 2, 1]\n"
     ]
    }
   ],
   "source": [
    "# 2. Escreva uma função que inverta uma lista.\n",
    "def reverse_list(lst): # Big o notation: O(n)\n",
    "    return lst[::-1]\n",
    "list_example = [1, 2, 3, 4, 5]\n",
    "print(f\"The reversed list is: {reverse_list(list_example)}\")"
   ]
  },
  {
   "cell_type": "code",
   "execution_count": 25,
   "metadata": {},
   "outputs": [
    {
     "name": "stdout",
     "output_type": "stream",
     "text": [
      "Element 10 is in list: False\n"
     ]
    }
   ],
   "source": [
    "# 3. Escreva uma função que verifica se um elemento ocorre em uma lista.\n",
    "def element_in_list(element, lst): # Big o notation: O(n)\n",
    "    return element in lst\n",
    "list_example = [1, 2, 3, 4, 5]\n",
    "element = int(input(\"Enter an element to check in list: \"))\n",
    "print(f\"Element {element} is in list: {element_in_list(element, list_example)}\")"
   ]
  },
  {
   "cell_type": "code",
   "execution_count": 26,
   "metadata": {},
   "outputs": [
    {
     "name": "stdout",
     "output_type": "stream",
     "text": [
      "The sum of the list is: 15\n"
     ]
    }
   ],
   "source": [
    "# 4. Escreva uma função que calcule a soma de todos os elementos de uma lista.\n",
    "def sum_of_list(lst): # Big o notation: O(n)\n",
    "    total = 0\n",
    "    for num in lst:\n",
    "        total += num\n",
    "    return total\n",
    "list_example = [1, 2, 3, 4, 5]\n",
    "print(f\"The sum of the list is: {sum_of_list(list_example)}\")"
   ]
  }
 ],
 "metadata": {
  "kernelspec": {
   "display_name": "Python 3",
   "language": "python",
   "name": "python3"
  },
  "language_info": {
   "codemirror_mode": {
    "name": "ipython",
    "version": 3
   },
   "file_extension": ".py",
   "mimetype": "text/x-python",
   "name": "python",
   "nbconvert_exporter": "python",
   "pygments_lexer": "ipython3",
   "version": "3.13.5"
  },
  "orig_nbformat": 4,
  "vscode": {
   "interpreter": {
    "hash": "31f2aee4e71d21fbe5cf8b01ff0e069b9275f58929596ceb00d14d90e3e16cd6"
   }
  }
 },
 "nbformat": 4,
 "nbformat_minor": 2
}
